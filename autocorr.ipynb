{
 "cells": [
  {
   "cell_type": "code",
   "execution_count": 1,
   "id": "6da5157a",
   "metadata": {},
   "outputs": [
    {
     "name": "stdout",
     "output_type": "stream",
     "text": [
      "Enter the text to correct (type 'exit' to stop): chacolate\n",
      "Auto-corrected Text: chocolate\n",
      "Enter the text to correct (type 'exit' to stop): caneen\n",
      "Auto-corrected Text: canteen\n",
      "Enter the text to correct (type 'exit' to stop): exemination\n",
      "Auto-corrected Text: examination\n",
      "Enter the text to correct (type 'exit' to stop): exemple\n",
      "Auto-corrected Text: example\n",
      "Enter the text to correct (type 'exit' to stop): exit\n",
      "Goodbye!\n"
     ]
    }
   ],
   "source": [
    "from textblob import TextBlob\n",
    "def autocorrect_ai(text):\n",
    "    blob = TextBlob(text)\n",
    "    corrected_words = []\n",
    "\n",
    "    for word in blob.words:\n",
    "        corrected_word = word.correct()\n",
    "        corrected_words.append(corrected_word)\n",
    "\n",
    "    return \" \".join(corrected_words)\n",
    "while True:\n",
    "    input_text = input(\"Enter the text to correct (type 'exit' to stop): \")\n",
    "    \n",
    "    if input_text.lower() == 'exit':\n",
    "        print(\"Goodbye!\")\n",
    "        break\n",
    "    \n",
    "    auto_corrected_text = autocorrect_ai(input_text)\n",
    "    print(\"Auto-corrected Text:\", auto_corrected_text)\n"
   ]
  },
  {
   "cell_type": "code",
   "execution_count": null,
   "id": "1666fe67",
   "metadata": {},
   "outputs": [],
   "source": []
  }
 ],
 "metadata": {
  "kernelspec": {
   "display_name": "Python 3 (ipykernel)",
   "language": "python",
   "name": "python3"
  },
  "language_info": {
   "codemirror_mode": {
    "name": "ipython",
    "version": 3
   },
   "file_extension": ".py",
   "mimetype": "text/x-python",
   "name": "python",
   "nbconvert_exporter": "python",
   "pygments_lexer": "ipython3",
   "version": "3.11.3"
  }
 },
 "nbformat": 4,
 "nbformat_minor": 5
}
